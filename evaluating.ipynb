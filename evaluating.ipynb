{
 "cells": [
  {
   "cell_type": "code",
   "execution_count": 1,
   "metadata": {},
   "outputs": [],
   "source": [
    "from tokenizers import Tokenizer\n",
    "from tokenizers.models import BPE\n",
    "from tokenizers.trainers import BpeTrainer\n",
    "from transformers import GPT2LMHeadModel\n",
    "\n",
    "from utils import complete_text"
   ]
  },
  {
   "cell_type": "markdown",
   "metadata": {},
   "source": [
    "## Tokenizer"
   ]
  },
  {
   "cell_type": "code",
   "execution_count": 2,
   "metadata": {},
   "outputs": [
    {
     "name": "stdout",
     "output_type": "stream",
     "text": [
      "\n",
      "\n",
      "\n"
     ]
    }
   ],
   "source": [
    "plain_wikipedia_file = 'plain_wikipedia.txt'\n",
    "tokenizer = Tokenizer(BPE(unk_token=\"[UNK]\"))\n",
    "trainer = BpeTrainer(special_tokens=[\"[UNK]\", \"[CLS]\", \"[SEP]\", \"[PAD]\", \"[MASK]\"], vocab_size=5000)\n",
    "tokenizer.train(files=[plain_wikipedia_file], trainer=trainer)"
   ]
  },
  {
   "cell_type": "markdown",
   "metadata": {},
   "source": [
    "## Neural Network"
   ]
  },
  {
   "cell_type": "markdown",
   "metadata": {},
   "source": [
    "Here we are loading the Neural Network for khmer that we already trained"
   ]
  },
  {
   "cell_type": "code",
   "execution_count": 3,
   "metadata": {},
   "outputs": [],
   "source": [
    "initial_model = GPT2LMHeadModel.from_pretrained(\"gpt2-wikipedia-khmer-no-pretrain\")\n",
    "model = GPT2LMHeadModel.from_pretrained(\"gpt2-wikipedia-khmer\")"
   ]
  },
  {
   "cell_type": "markdown",
   "metadata": {},
   "source": [
    "Let's use the models to complete sentences "
   ]
  },
  {
   "cell_type": "code",
   "execution_count": 4,
   "metadata": {},
   "outputs": [
    {
     "name": "stdout",
     "output_type": "stream",
     "text": [
      "Before training\n",
      "ប្រាសាទ  អង្គ រ វត្ត គ្រូ 別 別 別 別 別 別 別 別 別 別 ˧ ˧ ˧ ˧ ˧ ˧ ˧ ˧ 阪 阪 阪 阪 阪 阪 ˧ ˧ ˧ ˧ ˧ ˧ ˧ 阪 阪 阪 阪 阪 阪 阪 阪 阪 阪 阪 阪 阪 阪 阪 យក យក យក យក យក យក យក យក យក 朝 ្អូន ្អូន ្អូន\n",
      "After training\n",
      "ប្រាសាទ  អង្គ រ វត្ត  ( អង់គ្លេស :  B or om   R e a ch e a  I I )  ( ប្រ .ស | គ.ស   ០០ ០០ - ១ ០០ ២ )  រ ជ្ជ កាល គ្រ ង រាជ  ( គ.ស  ១ ៣ ០ - ១ ១៦ ០ )  ក្រោយ គ្រ ង រាជ សម្បត្តិ ផ្លូវ ការណ៍ ក្នុង ឆ្នាំ ១\n"
     ]
    }
   ],
   "source": [
    "sentence_to_complete = \"ប្រាសាទ អង្គរវត្ត\" # Angkor Wat\n",
    "print(\"Before training\")\n",
    "complete_text(sentence_to_complete, initial_model, tokenizer)\n",
    "print(\"After training\")\n",
    "complete_text(sentence_to_complete, model, tokenizer)"
   ]
  },
  {
   "cell_type": "code",
   "execution_count": 17,
   "metadata": {},
   "outputs": [
    {
     "name": "stdout",
     "output_type": "stream",
     "text": [
      "Before training\n",
      "ប្រទេសកម្ពុជា 圈 圈 圈 圈 圈 圈 圈 圈 √ √ √ √ √ √ √ √ √ √ √ √ √ √ √ √ √ √ √ √ √ √ √ √ √ √ √ √ √ √ √ √ √ 禪 禪 禪 禪 禪 禪 禪 禪 禪 禪 禪 禪 禪 禪 禪 禪 禪 禪 禪 禪 禪 禪\n",
      "After training\n",
      "ប្រទេសកម្ពុជា គឺជា ប្រទេស មួយ ដែល ស្ថិតនៅ តំបន់ អាស៊ី អា គ្ន េយ ៍ ដី គ ោក ។  ប្រទេស នេះមាន ព្រំប្រទល់ ជាប់ ន ឹង  ប ឹង ទន្ល េស ាប  និង ខេត្ត រ ត ន គ ិ រី  និង ខេត្ត រ ត ន គ ិ រី ។  ប ឹង ទន្ល េស ាប មាន ព្រំប្រទល់ ជាប់ ខេត្ត រ ត ន គ ិ រី  និង ខេត្ត រ ត ន\n"
     ]
    }
   ],
   "source": [
    "sentence_to_complete = \"ប្រទេសកម្ពុជា\" # Cambodia country\n",
    "print(\"Before training\")\n",
    "complete_text(sentence_to_complete, initial_model, tokenizer)\n",
    "print(\"After training\")\n",
    "complete_text(sentence_to_complete, model, tokenizer)"
   ]
  },
  {
   "cell_type": "code",
   "execution_count": null,
   "metadata": {},
   "outputs": [
    {
     "name": "stdout",
     "output_type": "stream",
     "text": [
      "Before training\n",
      "ជំ រាប សួរ oc oc oc oc oc oc oc oc oc oc oc oc oc ማ ማ ማ ማ ማ ማ ማ ማ ማ ማ ማ ማ ማ ማ ማ ማ ማ ማ ማ ማ ማ ማ ማ ማ ማ ማ ማ ማ ማ ማ ማ ማ ማ ማ ማ ማ ማ ማ ማ ማ ማ ማ ማ ማ ማ ማ ማ ማ\n",
      "After training\n",
      "ជំ រាប សួរ . ខ ុ .  ធ . ) ខ ុ .  ធ . ខ ុ .  ធ . ខ ុ .  ធ . ខ ុ .  ធ .\n"
     ]
    }
   ],
   "source": [
    "sentence_to_complete = \"ជំរាបសួរ\" # Hello\n",
    "print(\"Before training\")\n",
    "complete_text(sentence_to_complete, initial_model, tokenizer)\n",
    "print(\"After training\")\n",
    "complete_text(sentence_to_complete, model, tokenizer)"
   ]
  },
  {
   "cell_type": "code",
   "execution_count": null,
   "metadata": {},
   "outputs": [
    {
     "name": "stdout",
     "output_type": "stream",
     "text": [
      "Before training\n",
      "-5.834786 ត ើ  1 + 1  ជា អ្វី ? 羅 羅 羅 羅 羅 羅 羅 羅 羅 羅 羅 羅 羅 蕭 蕭 蕭 蕭 蕭 蕭 蕭 蕭 蕭 𐭠 𐭠 𐭠 𐭠 𐭠 𐭠 𐭠 𐭠 𐭠 𐭠 𐭠 𐭠 𐭠 𐭠 𐭠 𐭠 𐭠 𐭠 𐭠 哥 哥 哥 哥 哥 哥 哥 哥 哥 哥 哥 哥 哥 哥 哥\n",
      "After training\n",
      "-0.4089401 ត ើ  1 + 1  ជា អ្វី ? ខ ុ .  ធ . ) ខ ុ .  ធ . ,  ខ ុ .  ធ . ,  ខ ុ .  ជា .  ទ ស ក . ,  ខ ុ .  ធ .\n"
     ]
    }
   ],
   "source": [
    "sentence_to_complete = \"តើ 1+1 ជាអ្វី?\" # What is 1+1?\n",
    "print(\"Before training\")\n",
    "complete_text(sentence_to_complete, initial_model, tokenizer)\n",
    "print(\"After training\")\n",
    "complete_text(sentence_to_complete, model, tokenizer)"
   ]
  }
 ],
 "metadata": {
  "kernelspec": {
   "display_name": "gpt-khmer",
   "language": "python",
   "name": "python3"
  },
  "language_info": {
   "codemirror_mode": {
    "name": "ipython",
    "version": 3
   },
   "file_extension": ".py",
   "mimetype": "text/x-python",
   "name": "python",
   "nbconvert_exporter": "python",
   "pygments_lexer": "ipython3",
   "version": "3.10.13"
  }
 },
 "nbformat": 4,
 "nbformat_minor": 2
}
